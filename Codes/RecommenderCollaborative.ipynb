{
 "cells": [
  {
   "cell_type": "code",
   "execution_count": 2,
   "metadata": {},
   "outputs": [],
   "source": [
    "import pandas as pd\n",
    "import numpy as np\n",
    "from scipy.sparse import csr_matrix\n",
    "from sklearn.metrics.pairwise import cosine_similarity\n",
    "#import pickle\n",
    "import random\n",
    "import itertools\n",
    "dunnhumby_path = \"/Users/johnabraham/Desktop/dunnhumby_The-Complete-Journey/dunnhumby - The Complete Journey CSV\""
   ]
  },
  {
   "cell_type": "code",
   "execution_count": 3,
   "metadata": {},
   "outputs": [],
   "source": [
    "trans_data = pd.read_csv(dunnhumby_path+\"/transaction_data.csv\")"
   ]
  },
  {
   "cell_type": "code",
   "execution_count": 4,
   "metadata": {},
   "outputs": [],
   "source": [
    "# Make everything in lower case\n",
    "trans_data.rename(columns=dict(zip(trans_data.columns,trans_data.columns.str.lower())),inplace=True)"
   ]
  },
  {
   "cell_type": "code",
   "execution_count": 87,
   "metadata": {},
   "outputs": [],
   "source": [
    "trans_data_grpby = trans_data.groupby(['household_key','product_id'],as_index=False)['sales_value','quantity'].agg({'sales_value':'sum','quantity':'sum'})\n",
    "\n",
    "# We need to ensure products that are rarely bought by anyone should not be found similar with high confidence\n",
    "# Keeping a threshold that at least 3 people have to purchase an item for it to go into the collab filtering\n",
    "allowed_product_list = trans_data_grpby.groupby('product_id',as_index=False)['household_key'].agg({'household_key':'count'})\n",
    "allowed_product_list = list(allowed_product_list[allowed_product_list.household_key>20]['product_id'])\n",
    "trans_data_grpby = trans_data_grpby[trans_data_grpby.product_id.isin(allowed_product_list)]\n",
    "# Note that this filter must have the same value as is there in the Recommendations.R file. Otherwise it will throw a KeyError in the part where\n",
    "# recommendations are made\n",
    "# This is to avoid costly things that are not frequently purchased\n",
    "trans_data_grpby =trans_data_grpby[trans_data_grpby.quantity>3]\n",
    "#trans_data_cross = trans_data_grpby.pivot_table(index='household_key',columns='product_id', values='sales_value').reset_index()"
   ]
  },
  {
   "cell_type": "code",
   "execution_count": 88,
   "metadata": {},
   "outputs": [],
   "source": [
    "hh_key_idx = dict(zip(trans_data_grpby.household_key.unique(),np.arange(len(trans_data_grpby.household_key.unique()))))\n",
    "prod_id_idx = dict(zip(trans_data_grpby.product_id.unique(), np.arange(len(trans_data_grpby.product_id.unique()))))\n",
    "prod_idx_2_id = dict(enumerate(trans_data_grpby.product_id.unique()))"
   ]
  },
  {
   "cell_type": "code",
   "execution_count": 89,
   "metadata": {},
   "outputs": [],
   "source": [
    "hh_prod_mat = csr_matrix((trans_data_grpby.sales_value,\n",
    "                          (list(map(lambda x: hh_key_idx[x],trans_data_grpby.household_key)),\n",
    "                           list(map(lambda x: prod_id_idx[x],trans_data_grpby.product_id)))),\n",
    "                          shape=(len(hh_key_idx),len(prod_id_idx)))"
   ]
  },
  {
   "cell_type": "code",
   "execution_count": 90,
   "metadata": {},
   "outputs": [
    {
     "data": {
      "text/plain": [
       "(12954, 12954)"
      ]
     },
     "execution_count": 90,
     "metadata": {},
     "output_type": "execute_result"
    }
   ],
   "source": [
    "hh_prod_sim = cosine_similarity(hh_prod_mat.transpose())\n",
    "hh_prod_sim.shape"
   ]
  },
  {
   "cell_type": "code",
   "execution_count": 8,
   "metadata": {
    "collapsed": true
   },
   "outputs": [],
   "source": [
    "# Earlier planned to write to a file to read in R. But the file is just too big (beyond 1 GB)\n",
    "# hh_prod_sim_df = pd.DataFrame(hh_prod_sim)\n",
    "# hh_prod_sim_df.columns=trans_data_grpby.product_id.unique()\n",
    "# hh_prod_sim_df['product_id']=trans_data_grpby.product_id.unique()"
   ]
  },
  {
   "cell_type": "code",
   "execution_count": 9,
   "metadata": {},
   "outputs": [],
   "source": [
    "# Output the file as a pickle file - Kernal dying\n",
    "# with open(\"/Users/johnabraham/Desktop/dunnhumby_The-Complete-Journey/ProductRecommendation.P\",\"wb\") as file:\n",
    "#     pickle.dump(hh_prod_sim_df,file)"
   ]
  },
  {
   "cell_type": "markdown",
   "metadata": {},
   "source": [
    "### Try to manually see how highly similar products look"
   ]
  },
  {
   "cell_type": "code",
   "execution_count": 96,
   "metadata": {},
   "outputs": [
    {
     "data": {
      "text/plain": [
       "array([ 1108046,   948966, 12330860,  9296795])"
      ]
     },
     "metadata": {},
     "output_type": "display_data"
    },
    {
     "data": {
      "text/html": [
       "<div>\n",
       "<style scoped>\n",
       "    .dataframe tbody tr th:only-of-type {\n",
       "        vertical-align: middle;\n",
       "    }\n",
       "\n",
       "    .dataframe tbody tr th {\n",
       "        vertical-align: top;\n",
       "    }\n",
       "\n",
       "    .dataframe thead th {\n",
       "        text-align: right;\n",
       "    }\n",
       "</style>\n",
       "<table border=\"1\" class=\"dataframe\">\n",
       "  <thead>\n",
       "    <tr style=\"text-align: right;\">\n",
       "      <th></th>\n",
       "      <th>prod_names</th>\n",
       "      <th>product_id</th>\n",
       "      <th>similarity</th>\n",
       "    </tr>\n",
       "  </thead>\n",
       "  <tbody>\n",
       "    <tr>\n",
       "      <th>0</th>\n",
       "      <td>ORAL HYGIENE BRUSHES</td>\n",
       "      <td>1108046</td>\n",
       "      <td>1.000000</td>\n",
       "    </tr>\n",
       "    <tr>\n",
       "      <th>1</th>\n",
       "      <td>ORAL HYGIENE BRUSHES</td>\n",
       "      <td>1099397</td>\n",
       "      <td>1.000000</td>\n",
       "    </tr>\n",
       "    <tr>\n",
       "      <th>2</th>\n",
       "      <td>CEREAL BARS</td>\n",
       "      <td>906511</td>\n",
       "      <td>0.932511</td>\n",
       "    </tr>\n",
       "    <tr>\n",
       "      <th>3</th>\n",
       "      <td>SNACK CRACKERS</td>\n",
       "      <td>979523</td>\n",
       "      <td>0.867935</td>\n",
       "    </tr>\n",
       "    <tr>\n",
       "      <th>4</th>\n",
       "      <td>PIZZA/PREMIUM</td>\n",
       "      <td>834572</td>\n",
       "      <td>0.847278</td>\n",
       "    </tr>\n",
       "  </tbody>\n",
       "</table>\n",
       "</div>"
      ],
      "text/plain": [
       "             prod_names  product_id  similarity\n",
       "0  ORAL HYGIENE BRUSHES     1108046    1.000000\n",
       "1  ORAL HYGIENE BRUSHES     1099397    1.000000\n",
       "2           CEREAL BARS      906511    0.932511\n",
       "3        SNACK CRACKERS      979523    0.867935\n",
       "4         PIZZA/PREMIUM      834572    0.847278"
      ]
     },
     "metadata": {},
     "output_type": "display_data"
    },
    {
     "data": {
      "text/html": [
       "<div>\n",
       "<style scoped>\n",
       "    .dataframe tbody tr th:only-of-type {\n",
       "        vertical-align: middle;\n",
       "    }\n",
       "\n",
       "    .dataframe tbody tr th {\n",
       "        vertical-align: top;\n",
       "    }\n",
       "\n",
       "    .dataframe thead th {\n",
       "        text-align: right;\n",
       "    }\n",
       "</style>\n",
       "<table border=\"1\" class=\"dataframe\">\n",
       "  <thead>\n",
       "    <tr style=\"text-align: right;\">\n",
       "      <th></th>\n",
       "      <th>prod_names</th>\n",
       "      <th>product_id</th>\n",
       "      <th>similarity</th>\n",
       "    </tr>\n",
       "  </thead>\n",
       "  <tbody>\n",
       "    <tr>\n",
       "      <th>0</th>\n",
       "      <td>SOFT DRINKS 20PK&amp;24PK CAN CARB</td>\n",
       "      <td>948966</td>\n",
       "      <td>1.000000</td>\n",
       "    </tr>\n",
       "    <tr>\n",
       "      <th>1</th>\n",
       "      <td>SOFT DRINKS 6PK/4PK CAN CARB (</td>\n",
       "      <td>6704144</td>\n",
       "      <td>0.847998</td>\n",
       "    </tr>\n",
       "    <tr>\n",
       "      <th>2</th>\n",
       "      <td>SFT DRNK MLT-PK BTL CARB (EXCP</td>\n",
       "      <td>9803819</td>\n",
       "      <td>0.834019</td>\n",
       "    </tr>\n",
       "    <tr>\n",
       "      <th>3</th>\n",
       "      <td>SFT DRNK MLT-PK BTL CARB (EXCP</td>\n",
       "      <td>1132956</td>\n",
       "      <td>0.700076</td>\n",
       "    </tr>\n",
       "    <tr>\n",
       "      <th>4</th>\n",
       "      <td>TABLE SALT POPCORN SALTICE C</td>\n",
       "      <td>999318</td>\n",
       "      <td>0.657381</td>\n",
       "    </tr>\n",
       "  </tbody>\n",
       "</table>\n",
       "</div>"
      ],
      "text/plain": [
       "                       prod_names  product_id  similarity\n",
       "0  SOFT DRINKS 20PK&24PK CAN CARB      948966    1.000000\n",
       "1  SOFT DRINKS 6PK/4PK CAN CARB (     6704144    0.847998\n",
       "2  SFT DRNK MLT-PK BTL CARB (EXCP     9803819    0.834019\n",
       "3  SFT DRNK MLT-PK BTL CARB (EXCP     1132956    0.700076\n",
       "4    TABLE SALT POPCORN SALTICE C      999318    0.657381"
      ]
     },
     "metadata": {},
     "output_type": "display_data"
    },
    {
     "data": {
      "text/html": [
       "<div>\n",
       "<style scoped>\n",
       "    .dataframe tbody tr th:only-of-type {\n",
       "        vertical-align: middle;\n",
       "    }\n",
       "\n",
       "    .dataframe tbody tr th {\n",
       "        vertical-align: top;\n",
       "    }\n",
       "\n",
       "    .dataframe thead th {\n",
       "        text-align: right;\n",
       "    }\n",
       "</style>\n",
       "<table border=\"1\" class=\"dataframe\">\n",
       "  <thead>\n",
       "    <tr style=\"text-align: right;\">\n",
       "      <th></th>\n",
       "      <th>prod_names</th>\n",
       "      <th>product_id</th>\n",
       "      <th>similarity</th>\n",
       "    </tr>\n",
       "  </thead>\n",
       "  <tbody>\n",
       "    <tr>\n",
       "      <th>0</th>\n",
       "      <td>TORTILLA/NACHO CHIPS</td>\n",
       "      <td>12330860</td>\n",
       "      <td>1.000000</td>\n",
       "    </tr>\n",
       "    <tr>\n",
       "      <th>1</th>\n",
       "      <td>SHAMPOO</td>\n",
       "      <td>13095304</td>\n",
       "      <td>0.816497</td>\n",
       "    </tr>\n",
       "    <tr>\n",
       "      <th>2</th>\n",
       "      <td>APPLES GALA (BULK&amp;BAG)</td>\n",
       "      <td>16729363</td>\n",
       "      <td>0.816497</td>\n",
       "    </tr>\n",
       "    <tr>\n",
       "      <th>3</th>\n",
       "      <td>CHILDREN S ACTIVITY</td>\n",
       "      <td>911093</td>\n",
       "      <td>0.816497</td>\n",
       "    </tr>\n",
       "    <tr>\n",
       "      <th>4</th>\n",
       "      <td>SHAMPOO</td>\n",
       "      <td>1126492</td>\n",
       "      <td>0.816497</td>\n",
       "    </tr>\n",
       "  </tbody>\n",
       "</table>\n",
       "</div>"
      ],
      "text/plain": [
       "               prod_names  product_id  similarity\n",
       "0    TORTILLA/NACHO CHIPS    12330860    1.000000\n",
       "1                 SHAMPOO    13095304    0.816497\n",
       "2  APPLES GALA (BULK&BAG)    16729363    0.816497\n",
       "3     CHILDREN S ACTIVITY      911093    0.816497\n",
       "4                 SHAMPOO     1126492    0.816497"
      ]
     },
     "metadata": {},
     "output_type": "display_data"
    },
    {
     "data": {
      "text/html": [
       "<div>\n",
       "<style scoped>\n",
       "    .dataframe tbody tr th:only-of-type {\n",
       "        vertical-align: middle;\n",
       "    }\n",
       "\n",
       "    .dataframe tbody tr th {\n",
       "        vertical-align: top;\n",
       "    }\n",
       "\n",
       "    .dataframe thead th {\n",
       "        text-align: right;\n",
       "    }\n",
       "</style>\n",
       "<table border=\"1\" class=\"dataframe\">\n",
       "  <thead>\n",
       "    <tr style=\"text-align: right;\">\n",
       "      <th></th>\n",
       "      <th>prod_names</th>\n",
       "      <th>product_id</th>\n",
       "      <th>similarity</th>\n",
       "    </tr>\n",
       "  </thead>\n",
       "  <tbody>\n",
       "    <tr>\n",
       "      <th>0</th>\n",
       "      <td>SCOOP LITTER</td>\n",
       "      <td>9296795</td>\n",
       "      <td>1.000000</td>\n",
       "    </tr>\n",
       "    <tr>\n",
       "      <th>1</th>\n",
       "      <td>CANDY BAGS-NON CHOCOLATE</td>\n",
       "      <td>1053420</td>\n",
       "      <td>0.751491</td>\n",
       "    </tr>\n",
       "    <tr>\n",
       "      <th>2</th>\n",
       "      <td>CHEESE: NATURAL BULK</td>\n",
       "      <td>1020322</td>\n",
       "      <td>0.751491</td>\n",
       "    </tr>\n",
       "    <tr>\n",
       "      <th>3</th>\n",
       "      <td>TOOTHPASTE</td>\n",
       "      <td>968522</td>\n",
       "      <td>0.751491</td>\n",
       "    </tr>\n",
       "    <tr>\n",
       "      <th>4</th>\n",
       "      <td>DRY SOUP</td>\n",
       "      <td>874998</td>\n",
       "      <td>0.751491</td>\n",
       "    </tr>\n",
       "  </tbody>\n",
       "</table>\n",
       "</div>"
      ],
      "text/plain": [
       "                 prod_names  product_id  similarity\n",
       "0              SCOOP LITTER     9296795    1.000000\n",
       "1  CANDY BAGS-NON CHOCOLATE     1053420    0.751491\n",
       "2      CHEESE: NATURAL BULK     1020322    0.751491\n",
       "3                TOOTHPASTE      968522    0.751491\n",
       "4                  DRY SOUP      874998    0.751491"
      ]
     },
     "metadata": {},
     "output_type": "display_data"
    }
   ],
   "source": [
    "# Read in the product fille \n",
    "product = pd.read_csv(dunnhumby_path+\"/product.csv\")\n",
    "num_prods_2_inspect = 4\n",
    "num_sim_prods = 4\n",
    "product_list = np.random.choice(list(prod_id_idx.keys()),size=num_prods_2_inspect,replace=False)\n",
    "#list(product.sample(num_prods_2_inspect).PRODUCT_ID) # Not all products are in the collab filtering matrix\n",
    "display(product_list)\n",
    "for product_id in product_list:\n",
    "    prod_n_sim_list = np.argsort(-hh_prod_sim[prod_id_idx[product_id],:])[:num_sim_prods+1]\n",
    "    similarity = hh_prod_sim[prod_id_idx[product_id],prod_n_sim_list]\n",
    "    prod_ids = [prod_idx_2_id[prod_idx] for prod_idx in prod_n_sim_list]\n",
    "    prod_names = [(product[product.PRODUCT_ID==prod_id]['SUB_COMMODITY_DESC']).to_string(index=False) for prod_id in prod_ids]\n",
    "    display(pd.DataFrame({'product_id':prod_ids,'similarity':similarity,'prod_names':prod_names}))\n"
   ]
  },
  {
   "cell_type": "markdown",
   "metadata": {},
   "source": [
    "### This part below expects the R-code to generate recommendation_output.csv is run and that file is available at this location"
   ]
  },
  {
   "cell_type": "code",
   "execution_count": 65,
   "metadata": {},
   "outputs": [],
   "source": [
    "processed_files_path = \"/Users/johnabraham/Dropbox/MSARelated/Spring2018/MGT6203/ProjectRelated\""
   ]
  },
  {
   "cell_type": "code",
   "execution_count": 74,
   "metadata": {},
   "outputs": [
    {
     "data": {
      "text/html": [
       "<div>\n",
       "<style scoped>\n",
       "    .dataframe tbody tr th:only-of-type {\n",
       "        vertical-align: middle;\n",
       "    }\n",
       "\n",
       "    .dataframe tbody tr th {\n",
       "        vertical-align: top;\n",
       "    }\n",
       "\n",
       "    .dataframe thead th {\n",
       "        text-align: right;\n",
       "    }\n",
       "</style>\n",
       "<table border=\"1\" class=\"dataframe\">\n",
       "  <thead>\n",
       "    <tr style=\"text-align: right;\">\n",
       "      <th></th>\n",
       "      <th>store_id</th>\n",
       "      <th>household_key</th>\n",
       "      <th>recommendation_rank</th>\n",
       "      <th>product_id</th>\n",
       "    </tr>\n",
       "  </thead>\n",
       "  <tbody>\n",
       "    <tr>\n",
       "      <th>0</th>\n",
       "      <td>292</td>\n",
       "      <td>1397</td>\n",
       "      <td>1</td>\n",
       "      <td>918046</td>\n",
       "    </tr>\n",
       "    <tr>\n",
       "      <th>1</th>\n",
       "      <td>292</td>\n",
       "      <td>1397</td>\n",
       "      <td>3</td>\n",
       "      <td>1050482</td>\n",
       "    </tr>\n",
       "    <tr>\n",
       "      <th>2</th>\n",
       "      <td>292</td>\n",
       "      <td>1397</td>\n",
       "      <td>4</td>\n",
       "      <td>1085983</td>\n",
       "    </tr>\n",
       "    <tr>\n",
       "      <th>3</th>\n",
       "      <td>292</td>\n",
       "      <td>1397</td>\n",
       "      <td>5</td>\n",
       "      <td>1106523</td>\n",
       "    </tr>\n",
       "    <tr>\n",
       "      <th>4</th>\n",
       "      <td>292</td>\n",
       "      <td>1397</td>\n",
       "      <td>2</td>\n",
       "      <td>8293425</td>\n",
       "    </tr>\n",
       "  </tbody>\n",
       "</table>\n",
       "</div>"
      ],
      "text/plain": [
       "   store_id  household_key  recommendation_rank  product_id\n",
       "0       292           1397                    1      918046\n",
       "1       292           1397                    3     1050482\n",
       "2       292           1397                    4     1085983\n",
       "3       292           1397                    5     1106523\n",
       "4       292           1397                    2     8293425"
      ]
     },
     "execution_count": 74,
     "metadata": {},
     "output_type": "execute_result"
    }
   ],
   "source": [
    "# Read a dataset that has store_id, household_id, product_id from the historical data and use the collaborative filtering based method to append more products\n",
    "# Return the dataset along with a key that says which one it is based on - historical or recommendation\n",
    "reco_data = pd.read_csv(processed_files_path+\"/recommendation_output.csv\")\n",
    "reco_data.head()"
   ]
  },
  {
   "cell_type": "code",
   "execution_count": 79,
   "metadata": {},
   "outputs": [],
   "source": [
    "reco_data_augmented = reco_data[['store_id','household_key','product_id']]\n",
    "num_reco_products = 3 # Only up to num_reco_products will be added\n",
    "similarity_threshold = 0.4 # Only products with a similarity of similarity_threshold or above will be considered 'similar'\n",
    "for _,record in reco_data.iterrows():\n",
    "    if record['product_id'] in prod_id_idx:\n",
    "        prod_idx=prod_id_idx[record['product_id']]\n",
    "        similarity_scores = hh_prod_sim[prod_idx,:]\n",
    "        recommended_additional_product_idx = np.argsort(similarity_scores)[-(num_reco_products+1):-1]\n",
    "        for prod_idx in recommended_additional_product_idx:\n",
    "            if(similarity_scores[prod_idx]>=similarity_threshold):\n",
    "                reco_data_augmented=reco_data_augmented.append(pd.DataFrame({\"store_id\":record['store_id'],\"household_key\":record['household_key'],\n",
    "                                                                           'product_id':prod_idx_2_id[prod_idx]},index=[0]),ignore_index=True)\n",
    "reco_data_augmented=reco_data_augmented.drop_duplicates()\n",
    "reco_data_augmented.to_csv(processed_files_path+\"/recommendation_augmented_output.csv\",index=False)"
   ]
  }
 ],
 "metadata": {
  "kernelspec": {
   "display_name": "Python 3",
   "language": "python",
   "name": "python3"
  },
  "language_info": {
   "codemirror_mode": {
    "name": "ipython",
    "version": 3
   },
   "file_extension": ".py",
   "mimetype": "text/x-python",
   "name": "python",
   "nbconvert_exporter": "python",
   "pygments_lexer": "ipython3",
   "version": "3.6.4"
  }
 },
 "nbformat": 4,
 "nbformat_minor": 2
}
